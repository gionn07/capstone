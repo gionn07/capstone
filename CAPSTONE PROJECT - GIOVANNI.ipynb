{
 "cells": [
  {
   "cell_type": "markdown",
   "metadata": {},
   "source": [
    "## Import Modules"
   ]
  },
  {
   "cell_type": "code",
   "execution_count": 1,
   "metadata": {},
   "outputs": [
    {
     "name": "stderr",
     "output_type": "stream",
     "text": [
      "C:\\ProgramData\\Anaconda3\\lib\\site-packages\\sklearn\\cross_validation.py:41: DeprecationWarning: This module was deprecated in version 0.18 in favor of the model_selection module into which all the refactored classes and functions are moved. Also note that the interface of the new CV iterators are different from that of this module. This module will be removed in 0.20.\n",
      "  \"This module will be removed in 0.20.\", DeprecationWarning)\n"
     ]
    }
   ],
   "source": [
    "import numpy as np\n",
    "import pandas as pd\n",
    "import scipy\n",
    "from math import sqrt\n",
    "import matplotlib.pyplot as plt\n",
    "import seaborn as sns\n",
    "\n",
    "#estimators\n",
    "from sklearn.neural_network import MLPClassifier\n",
    "from sklearn.linear_model import LogisticRegression\n",
    "from sklearn.svm import SVC\n",
    "from sklearn import linear_model\n",
    "\n",
    "#model metrics\n",
    "\n",
    "from sklearn.metrics import mean_squared_error\n",
    "from sklearn.metrics import r2_score\n",
    "from sklearn.model_selection import cross_val_score\n",
    "from sklearn.metrics import accuracy_score\n",
    "from sklearn.metrics import confusion_matrix\n",
    "\n",
    "#cross validation\n",
    "from sklearn.cross_validation import train_test_split\n",
    "from sklearn.feature_selection import RFE\n",
    "from sklearn.decomposition import PCA"
   ]
  },
  {
   "cell_type": "code",
   "execution_count": 2,
   "metadata": {
    "scrolled": true
   },
   "outputs": [
    {
     "data": {
      "text/html": [
       "<div>\n",
       "<style scoped>\n",
       "    .dataframe tbody tr th:only-of-type {\n",
       "        vertical-align: middle;\n",
       "    }\n",
       "\n",
       "    .dataframe tbody tr th {\n",
       "        vertical-align: top;\n",
       "    }\n",
       "\n",
       "    .dataframe thead th {\n",
       "        text-align: right;\n",
       "    }\n",
       "</style>\n",
       "<table border=\"1\" class=\"dataframe\">\n",
       "  <thead>\n",
       "    <tr style=\"text-align: right;\">\n",
       "      <th></th>\n",
       "      <th>Opportunity_ID</th>\n",
       "      <th>Fiscal_Period</th>\n",
       "      <th>ForecastCategoryName</th>\n",
       "      <th>Status</th>\n",
       "      <th>War_Room_Status</th>\n",
       "      <th>WR_Status_for_RTP</th>\n",
       "      <th>Opportunity_Driver</th>\n",
       "      <th>OpptyAge</th>\n",
       "      <th>StageName</th>\n",
       "      <th>Amount</th>\n",
       "      <th>AmountNoChng</th>\n",
       "      <th>CloseDateNoChng</th>\n",
       "      <th>ForecastStatusNoChng</th>\n",
       "      <th>StageNameNoChng</th>\n",
       "      <th>eValuePrompterNoChng</th>\n",
       "      <th>NextStepsNoChng</th>\n",
       "      <th>FinalStatus</th>\n",
       "    </tr>\n",
       "  </thead>\n",
       "  <tbody>\n",
       "    <tr>\n",
       "      <th>0</th>\n",
       "      <td>1</td>\n",
       "      <td>Q4-2019</td>\n",
       "      <td>Upside</td>\n",
       "      <td>NaN</td>\n",
       "      <td>NaN</td>\n",
       "      <td>Upside</td>\n",
       "      <td>AE</td>\n",
       "      <td>37.0</td>\n",
       "      <td>02 - Qualified</td>\n",
       "      <td>0.87</td>\n",
       "      <td>0</td>\n",
       "      <td>0</td>\n",
       "      <td>2</td>\n",
       "      <td>0</td>\n",
       "      <td>1</td>\n",
       "      <td>1</td>\n",
       "      <td>3</td>\n",
       "    </tr>\n",
       "    <tr>\n",
       "      <th>1</th>\n",
       "      <td>2</td>\n",
       "      <td>Q1-2020</td>\n",
       "      <td>Upside</td>\n",
       "      <td>NaN</td>\n",
       "      <td>NaN</td>\n",
       "      <td>Upside</td>\n",
       "      <td>AE</td>\n",
       "      <td>551.0</td>\n",
       "      <td>02 - Qualified</td>\n",
       "      <td>4944382.00</td>\n",
       "      <td>32</td>\n",
       "      <td>6</td>\n",
       "      <td>3</td>\n",
       "      <td>3</td>\n",
       "      <td>1</td>\n",
       "      <td>13</td>\n",
       "      <td>3</td>\n",
       "    </tr>\n",
       "    <tr>\n",
       "      <th>2</th>\n",
       "      <td>3</td>\n",
       "      <td>Q3-2019</td>\n",
       "      <td>Probable</td>\n",
       "      <td>NaN</td>\n",
       "      <td>Forecast</td>\n",
       "      <td>Forecast</td>\n",
       "      <td>AE - SP EU</td>\n",
       "      <td>143.0</td>\n",
       "      <td>05 - Prove</td>\n",
       "      <td>8050622.00</td>\n",
       "      <td>12</td>\n",
       "      <td>6</td>\n",
       "      <td>1</td>\n",
       "      <td>3</td>\n",
       "      <td>1</td>\n",
       "      <td>45</td>\n",
       "      <td>3</td>\n",
       "    </tr>\n",
       "    <tr>\n",
       "      <th>3</th>\n",
       "      <td>4</td>\n",
       "      <td>Q3-2019</td>\n",
       "      <td>Upside</td>\n",
       "      <td>NaN</td>\n",
       "      <td>NaN</td>\n",
       "      <td>Upside</td>\n",
       "      <td>AE - SP NS</td>\n",
       "      <td>295.0</td>\n",
       "      <td>04 - Design</td>\n",
       "      <td>1.00</td>\n",
       "      <td>3</td>\n",
       "      <td>0</td>\n",
       "      <td>0</td>\n",
       "      <td>0</td>\n",
       "      <td>0</td>\n",
       "      <td>1</td>\n",
       "      <td>3</td>\n",
       "    </tr>\n",
       "    <tr>\n",
       "      <th>4</th>\n",
       "      <td>5</td>\n",
       "      <td>Q3-2019</td>\n",
       "      <td>Probable</td>\n",
       "      <td>NaN</td>\n",
       "      <td>NaN</td>\n",
       "      <td>Probable</td>\n",
       "      <td>IS</td>\n",
       "      <td>39.0</td>\n",
       "      <td>05 - Prove</td>\n",
       "      <td>12645.22</td>\n",
       "      <td>3</td>\n",
       "      <td>1</td>\n",
       "      <td>1</td>\n",
       "      <td>1</td>\n",
       "      <td>0</td>\n",
       "      <td>2</td>\n",
       "      <td>3</td>\n",
       "    </tr>\n",
       "  </tbody>\n",
       "</table>\n",
       "</div>"
      ],
      "text/plain": [
       "   Opportunity_ID Fiscal_Period ForecastCategoryName  Status War_Room_Status  \\\n",
       "0               1       Q4-2019               Upside     NaN             NaN   \n",
       "1               2       Q1-2020               Upside     NaN             NaN   \n",
       "2               3       Q3-2019             Probable     NaN        Forecast   \n",
       "3               4       Q3-2019               Upside     NaN             NaN   \n",
       "4               5       Q3-2019             Probable     NaN             NaN   \n",
       "\n",
       "  WR_Status_for_RTP Opportunity_Driver  OpptyAge       StageName      Amount  \\\n",
       "0            Upside                 AE      37.0  02 - Qualified        0.87   \n",
       "1            Upside                 AE     551.0  02 - Qualified  4944382.00   \n",
       "2          Forecast         AE - SP EU     143.0      05 - Prove  8050622.00   \n",
       "3            Upside         AE - SP NS     295.0     04 - Design        1.00   \n",
       "4          Probable                 IS      39.0      05 - Prove    12645.22   \n",
       "\n",
       "   AmountNoChng  CloseDateNoChng  ForecastStatusNoChng  StageNameNoChng  \\\n",
       "0             0                0                     2                0   \n",
       "1            32                6                     3                3   \n",
       "2            12                6                     1                3   \n",
       "3             3                0                     0                0   \n",
       "4             3                1                     1                1   \n",
       "\n",
       "   eValuePrompterNoChng  NextStepsNoChng FinalStatus  \n",
       "0                     1                1           3  \n",
       "1                     1               13           3  \n",
       "2                     1               45           3  \n",
       "3                     0                1           3  \n",
       "4                     0                2           3  "
      ]
     },
     "execution_count": 2,
     "metadata": {},
     "output_type": "execute_result"
    }
   ],
   "source": [
    "#data\n",
    "rawData = pd.read_excel('W4 Q319.xlsx', header=0)\n",
    "\n",
    "rawData['FinalStatus'] = rawData['FinalStatus'] .astype('category')\n",
    "rawData.head()"
   ]
  },
  {
   "cell_type": "code",
   "execution_count": 3,
   "metadata": {
    "scrolled": true
   },
   "outputs": [
    {
     "name": "stdout",
     "output_type": "stream",
     "text": [
      "<class 'pandas.core.frame.DataFrame'>\n",
      "RangeIndex: 40771 entries, 0 to 40770\n",
      "Data columns (total 17 columns):\n",
      "Opportunity_ID          40771 non-null int64\n",
      "Fiscal_Period           40771 non-null object\n",
      "ForecastCategoryName    40771 non-null object\n",
      "Status                  0 non-null float64\n",
      "War_Room_Status         1419 non-null object\n",
      "WR_Status_for_RTP       40771 non-null object\n",
      "Opportunity_Driver      29221 non-null object\n",
      "OpptyAge                40770 non-null float64\n",
      "StageName               40771 non-null object\n",
      "Amount                  39879 non-null float64\n",
      "AmountNoChng            40771 non-null int64\n",
      "CloseDateNoChng         40771 non-null int64\n",
      "ForecastStatusNoChng    40771 non-null int64\n",
      "StageNameNoChng         40771 non-null int64\n",
      "eValuePrompterNoChng    40771 non-null int64\n",
      "NextStepsNoChng         40771 non-null int64\n",
      "FinalStatus             40771 non-null category\n",
      "dtypes: category(1), float64(3), int64(7), object(6)\n",
      "memory usage: 5.0+ MB\n"
     ]
    }
   ],
   "source": [
    "rawData.info()"
   ]
  },
  {
   "cell_type": "markdown",
   "metadata": {},
   "source": [
    "## Features / variables definition"
   ]
  },
  {
   "cell_type": "code",
   "execution_count": 4,
   "metadata": {},
   "outputs": [
    {
     "name": "stdout",
     "output_type": "stream",
     "text": [
      "Summary of feature sample\n"
     ]
    },
    {
     "data": {
      "text/html": [
       "<div>\n",
       "<style scoped>\n",
       "    .dataframe tbody tr th:only-of-type {\n",
       "        vertical-align: middle;\n",
       "    }\n",
       "\n",
       "    .dataframe tbody tr th {\n",
       "        vertical-align: top;\n",
       "    }\n",
       "\n",
       "    .dataframe thead th {\n",
       "        text-align: right;\n",
       "    }\n",
       "</style>\n",
       "<table border=\"1\" class=\"dataframe\">\n",
       "  <thead>\n",
       "    <tr style=\"text-align: right;\">\n",
       "      <th></th>\n",
       "      <th>AmountNoChng</th>\n",
       "      <th>CloseDateNoChng</th>\n",
       "      <th>ForecastStatusNoChng</th>\n",
       "      <th>StageNameNoChng</th>\n",
       "      <th>eValuePrompterNoChng</th>\n",
       "      <th>NextStepsNoChng</th>\n",
       "    </tr>\n",
       "  </thead>\n",
       "  <tbody>\n",
       "    <tr>\n",
       "      <th>0</th>\n",
       "      <td>0</td>\n",
       "      <td>0</td>\n",
       "      <td>2</td>\n",
       "      <td>0</td>\n",
       "      <td>1</td>\n",
       "      <td>1</td>\n",
       "    </tr>\n",
       "    <tr>\n",
       "      <th>1</th>\n",
       "      <td>32</td>\n",
       "      <td>6</td>\n",
       "      <td>3</td>\n",
       "      <td>3</td>\n",
       "      <td>1</td>\n",
       "      <td>13</td>\n",
       "    </tr>\n",
       "    <tr>\n",
       "      <th>2</th>\n",
       "      <td>12</td>\n",
       "      <td>6</td>\n",
       "      <td>1</td>\n",
       "      <td>3</td>\n",
       "      <td>1</td>\n",
       "      <td>45</td>\n",
       "    </tr>\n",
       "    <tr>\n",
       "      <th>3</th>\n",
       "      <td>3</td>\n",
       "      <td>0</td>\n",
       "      <td>0</td>\n",
       "      <td>0</td>\n",
       "      <td>0</td>\n",
       "      <td>1</td>\n",
       "    </tr>\n",
       "    <tr>\n",
       "      <th>4</th>\n",
       "      <td>3</td>\n",
       "      <td>1</td>\n",
       "      <td>1</td>\n",
       "      <td>1</td>\n",
       "      <td>0</td>\n",
       "      <td>2</td>\n",
       "    </tr>\n",
       "  </tbody>\n",
       "</table>\n",
       "</div>"
      ],
      "text/plain": [
       "   AmountNoChng  CloseDateNoChng  ForecastStatusNoChng  StageNameNoChng  \\\n",
       "0             0                0                     2                0   \n",
       "1            32                6                     3                3   \n",
       "2            12                6                     1                3   \n",
       "3             3                0                     0                0   \n",
       "4             3                1                     1                1   \n",
       "\n",
       "   eValuePrompterNoChng  NextStepsNoChng  \n",
       "0                     1                1  \n",
       "1                     1               13  \n",
       "2                     1               45  \n",
       "3                     0                1  \n",
       "4                     0                2  "
      ]
     },
     "execution_count": 4,
     "metadata": {},
     "output_type": "execute_result"
    }
   ],
   "source": [
    "#features\n",
    "features = rawData.iloc[:,10:16]\n",
    "print('Summary of feature sample')\n",
    "features.head()"
   ]
  },
  {
   "cell_type": "code",
   "execution_count": 5,
   "metadata": {},
   "outputs": [],
   "source": [
    "#dependent variable\n",
    "depVar = rawData['FinalStatus']"
   ]
  },
  {
   "cell_type": "code",
   "execution_count": 6,
   "metadata": {},
   "outputs": [
    {
     "data": {
      "text/html": [
       "<div>\n",
       "<style scoped>\n",
       "    .dataframe tbody tr th:only-of-type {\n",
       "        vertical-align: middle;\n",
       "    }\n",
       "\n",
       "    .dataframe tbody tr th {\n",
       "        vertical-align: top;\n",
       "    }\n",
       "\n",
       "    .dataframe thead th {\n",
       "        text-align: right;\n",
       "    }\n",
       "</style>\n",
       "<table border=\"1\" class=\"dataframe\">\n",
       "  <thead>\n",
       "    <tr style=\"text-align: right;\">\n",
       "      <th></th>\n",
       "      <th>AmountNoChng</th>\n",
       "      <th>CloseDateNoChng</th>\n",
       "      <th>ForecastStatusNoChng</th>\n",
       "      <th>StageNameNoChng</th>\n",
       "      <th>eValuePrompterNoChng</th>\n",
       "      <th>NextStepsNoChng</th>\n",
       "    </tr>\n",
       "  </thead>\n",
       "  <tbody>\n",
       "    <tr>\n",
       "      <th>0</th>\n",
       "      <td>0</td>\n",
       "      <td>0</td>\n",
       "      <td>2</td>\n",
       "      <td>0</td>\n",
       "      <td>1</td>\n",
       "      <td>1</td>\n",
       "    </tr>\n",
       "    <tr>\n",
       "      <th>1</th>\n",
       "      <td>32</td>\n",
       "      <td>6</td>\n",
       "      <td>3</td>\n",
       "      <td>3</td>\n",
       "      <td>1</td>\n",
       "      <td>13</td>\n",
       "    </tr>\n",
       "    <tr>\n",
       "      <th>2</th>\n",
       "      <td>12</td>\n",
       "      <td>6</td>\n",
       "      <td>1</td>\n",
       "      <td>3</td>\n",
       "      <td>1</td>\n",
       "      <td>45</td>\n",
       "    </tr>\n",
       "    <tr>\n",
       "      <th>3</th>\n",
       "      <td>3</td>\n",
       "      <td>0</td>\n",
       "      <td>0</td>\n",
       "      <td>0</td>\n",
       "      <td>0</td>\n",
       "      <td>1</td>\n",
       "    </tr>\n",
       "    <tr>\n",
       "      <th>4</th>\n",
       "      <td>3</td>\n",
       "      <td>1</td>\n",
       "      <td>1</td>\n",
       "      <td>1</td>\n",
       "      <td>0</td>\n",
       "      <td>2</td>\n",
       "    </tr>\n",
       "  </tbody>\n",
       "</table>\n",
       "</div>"
      ],
      "text/plain": [
       "   AmountNoChng  CloseDateNoChng  ForecastStatusNoChng  StageNameNoChng  \\\n",
       "0             0                0                     2                0   \n",
       "1            32                6                     3                3   \n",
       "2            12                6                     1                3   \n",
       "3             3                0                     0                0   \n",
       "4             3                1                     1                1   \n",
       "\n",
       "   eValuePrompterNoChng  NextStepsNoChng  \n",
       "0                     1                1  \n",
       "1                     1               13  \n",
       "2                     1               45  \n",
       "3                     0                1  \n",
       "4                     0                2  "
      ]
     },
     "execution_count": 6,
     "metadata": {},
     "output_type": "execute_result"
    }
   ],
   "source": [
    "#Training Set (Feature Space: X Training)\n",
    "X_train = (features[: 30000])\n",
    "X_train.head()"
   ]
  },
  {
   "cell_type": "code",
   "execution_count": 7,
   "metadata": {},
   "outputs": [
    {
     "name": "stdout",
     "output_type": "stream",
     "text": [
      "The number of observations in the Y training set are: 30000\n"
     ]
    },
    {
     "data": {
      "text/plain": [
       "0    3\n",
       "1    3\n",
       "2    3\n",
       "3    3\n",
       "4    3\n",
       "Name: FinalStatus, dtype: category\n",
       "Categories (3, int64): [0, 1, 3]"
      ]
     },
     "execution_count": 7,
     "metadata": {},
     "output_type": "execute_result"
    }
   ],
   "source": [
    "#Dependent Variable Training Set (y Training)\n",
    "y_train = depVar[: 30000]\n",
    "y_train_count = len(y_train.index)\n",
    "print('The number of observations in the Y training set are:',str(y_train_count))\n",
    "y_train.head()"
   ]
  },
  {
   "cell_type": "code",
   "execution_count": 8,
   "metadata": {},
   "outputs": [
    {
     "name": "stdout",
     "output_type": "stream",
     "text": [
      "The number of observations in the feature testing set is: 10000\n",
      "       AmountNoChng  CloseDateNoChng  ForecastStatusNoChng  StageNameNoChng  \\\n",
      "30771             1                0                     0                2   \n",
      "30772             2                4                     2                1   \n",
      "30773             1                1                     0                0   \n",
      "30774             1                1                     0                1   \n",
      "30775             0                1                     0                0   \n",
      "\n",
      "       eValuePrompterNoChng  NextStepsNoChng  \n",
      "30771                     0                2  \n",
      "30772                     0                4  \n",
      "30773                     0                0  \n",
      "30774                     0                0  \n",
      "30775                     0                0  \n"
     ]
    }
   ],
   "source": [
    "#Testing Set (X Testing)\n",
    "X_test = features[-10000:]\n",
    "X_test_count = len(X_test.index)\n",
    "print('The number of observations in the feature testing set is:',str(X_test_count))\n",
    "print(X_test.head())"
   ]
  },
  {
   "cell_type": "code",
   "execution_count": 9,
   "metadata": {},
   "outputs": [
    {
     "name": "stdout",
     "output_type": "stream",
     "text": [
      "The number of observations in the Y training set are: 10000\n"
     ]
    },
    {
     "data": {
      "text/plain": [
       "30771    3\n",
       "30772    3\n",
       "30773    3\n",
       "30774    3\n",
       "30775    3\n",
       "Name: FinalStatus, dtype: category\n",
       "Categories (3, int64): [0, 1, 3]"
      ]
     },
     "execution_count": 9,
     "metadata": {},
     "output_type": "execute_result"
    }
   ],
   "source": [
    "#Ground Truth (y_test) \n",
    "y_test = depVar[-10000:]\n",
    "y_test_count = len(y_test.index)\n",
    "print('The number of observations in the Y training set are:',str(y_test_count))\n",
    "y_test.head()"
   ]
  },
  {
   "cell_type": "markdown",
   "metadata": {},
   "source": [
    "### Feature selection using PCA"
   ]
  },
  {
   "cell_type": "code",
   "execution_count": 10,
   "metadata": {},
   "outputs": [],
   "source": [
    "#BACKUP of Original Features\n",
    "X_train_orig = X_train\n",
    "X_test_orig = X_test\n",
    "y_train_orig = y_train\n",
    "y_test_orig = y_test"
   ]
  },
  {
   "cell_type": "code",
   "execution_count": 11,
   "metadata": {},
   "outputs": [
    {
     "data": {
      "text/plain": [
       "array([[-3.90279736e+00, -1.28560636e+00,  6.34318074e-01],\n",
       "       [ 2.09973151e+01,  2.29621843e+01,  1.72104282e+00],\n",
       "       [ 4.06963705e+01, -8.36207744e+00,  9.23915062e+00],\n",
       "       ...,\n",
       "       [ 1.59831014e+00,  1.05844140e+00, -2.10526381e+00],\n",
       "       [-4.30296156e+00, -7.36839592e-02, -3.95610150e-02],\n",
       "       [-2.95117269e+00,  1.36965654e+00,  1.37472885e+00]])"
      ]
     },
     "execution_count": 11,
     "metadata": {},
     "output_type": "execute_result"
    }
   ],
   "source": [
    "# Feature Engineering using PCA\n",
    "pca = PCA(.95)\n",
    "pca.fit(X_train)\n",
    "X_train = pca.transform(X_train)\n",
    "X_test = pca.transform(X_test)\n",
    "X_train"
   ]
  },
  {
   "cell_type": "markdown",
   "metadata": {},
   "source": [
    "## Cross Validation"
   ]
  },
  {
   "cell_type": "code",
   "execution_count": 12,
   "metadata": {},
   "outputs": [],
   "source": [
    "from sklearn.cross_validation import train_test_split"
   ]
  },
  {
   "cell_type": "code",
   "execution_count": 13,
   "metadata": {},
   "outputs": [],
   "source": [
    "X_train, X_test, y_train, y_test = train_test_split(X_train, y_train)"
   ]
  },
  {
   "cell_type": "code",
   "execution_count": 14,
   "metadata": {},
   "outputs": [
    {
     "data": {
      "text/plain": [
       "((22500, 3), (7500, 3))"
      ]
     },
     "execution_count": 14,
     "metadata": {},
     "output_type": "execute_result"
    }
   ],
   "source": [
    "X_train.shape, X_test.shape"
   ]
  },
  {
   "cell_type": "code",
   "execution_count": 15,
   "metadata": {},
   "outputs": [
    {
     "data": {
      "text/plain": [
       "((16875, 3), (5625, 3))"
      ]
     },
     "execution_count": 15,
     "metadata": {},
     "output_type": "execute_result"
    }
   ],
   "source": [
    "X_train, X_test, y_train, y_test = train_test_split(X_train, y_train)\n",
    "X_train.shape, X_test.shape"
   ]
  },
  {
   "cell_type": "markdown",
   "metadata": {},
   "source": [
    "## Building Models and choosing the right Model"
   ]
  },
  {
   "cell_type": "markdown",
   "metadata": {},
   "source": [
    "### Establish variables that you will use for defining each model, and defining Tunning Parameters"
   ]
  },
  {
   "cell_type": "code",
   "execution_count": 16,
   "metadata": {},
   "outputs": [],
   "source": [
    "#Models\n",
    "modelSVC = SVC(gamma='auto')\n",
    "modelNN = MLPClassifier(solver='lbfgs', alpha=1e-5, hidden_layer_sizes=(5, 2), random_state=1)\n",
    "modelLR = LogisticRegression(random_state=0, solver='sag',max_iter=5000)"
   ]
  },
  {
   "cell_type": "markdown",
   "metadata": {},
   "source": [
    "### Establish a variable specifically for your features"
   ]
  },
  {
   "cell_type": "code",
   "execution_count": 17,
   "metadata": {
    "scrolled": true
   },
   "outputs": [
    {
     "name": "stdout",
     "output_type": "stream",
     "text": [
      "Summary of feature sample\n"
     ]
    },
    {
     "data": {
      "text/html": [
       "<div>\n",
       "<style scoped>\n",
       "    .dataframe tbody tr th:only-of-type {\n",
       "        vertical-align: middle;\n",
       "    }\n",
       "\n",
       "    .dataframe tbody tr th {\n",
       "        vertical-align: top;\n",
       "    }\n",
       "\n",
       "    .dataframe thead th {\n",
       "        text-align: right;\n",
       "    }\n",
       "</style>\n",
       "<table border=\"1\" class=\"dataframe\">\n",
       "  <thead>\n",
       "    <tr style=\"text-align: right;\">\n",
       "      <th></th>\n",
       "      <th>AmountNoChng</th>\n",
       "      <th>CloseDateNoChng</th>\n",
       "      <th>ForecastStatusNoChng</th>\n",
       "      <th>StageNameNoChng</th>\n",
       "      <th>eValuePrompterNoChng</th>\n",
       "      <th>NextStepsNoChng</th>\n",
       "      <th>FinalStatus</th>\n",
       "    </tr>\n",
       "  </thead>\n",
       "  <tbody>\n",
       "    <tr>\n",
       "      <th>0</th>\n",
       "      <td>0</td>\n",
       "      <td>0</td>\n",
       "      <td>2</td>\n",
       "      <td>0</td>\n",
       "      <td>1</td>\n",
       "      <td>1</td>\n",
       "      <td>3</td>\n",
       "    </tr>\n",
       "    <tr>\n",
       "      <th>1</th>\n",
       "      <td>32</td>\n",
       "      <td>6</td>\n",
       "      <td>3</td>\n",
       "      <td>3</td>\n",
       "      <td>1</td>\n",
       "      <td>13</td>\n",
       "      <td>3</td>\n",
       "    </tr>\n",
       "    <tr>\n",
       "      <th>2</th>\n",
       "      <td>12</td>\n",
       "      <td>6</td>\n",
       "      <td>1</td>\n",
       "      <td>3</td>\n",
       "      <td>1</td>\n",
       "      <td>45</td>\n",
       "      <td>3</td>\n",
       "    </tr>\n",
       "    <tr>\n",
       "      <th>3</th>\n",
       "      <td>3</td>\n",
       "      <td>0</td>\n",
       "      <td>0</td>\n",
       "      <td>0</td>\n",
       "      <td>0</td>\n",
       "      <td>1</td>\n",
       "      <td>3</td>\n",
       "    </tr>\n",
       "    <tr>\n",
       "      <th>4</th>\n",
       "      <td>3</td>\n",
       "      <td>1</td>\n",
       "      <td>1</td>\n",
       "      <td>1</td>\n",
       "      <td>0</td>\n",
       "      <td>2</td>\n",
       "      <td>3</td>\n",
       "    </tr>\n",
       "  </tbody>\n",
       "</table>\n",
       "</div>"
      ],
      "text/plain": [
       "   AmountNoChng  CloseDateNoChng  ForecastStatusNoChng  StageNameNoChng  \\\n",
       "0             0                0                     2                0   \n",
       "1            32                6                     3                3   \n",
       "2            12                6                     1                3   \n",
       "3             3                0                     0                0   \n",
       "4             3                1                     1                1   \n",
       "\n",
       "   eValuePrompterNoChng  NextStepsNoChng FinalStatus  \n",
       "0                     1                1           3  \n",
       "1                     1               13           3  \n",
       "2                     1               45           3  \n",
       "3                     0                1           3  \n",
       "4                     0                2           3  "
      ]
     },
     "execution_count": 17,
     "metadata": {},
     "output_type": "execute_result"
    }
   ],
   "source": [
    "#features\n",
    "features = rawData.iloc[:,10:17]\n",
    "print('Summary of feature sample')\n",
    "features.head()"
   ]
  },
  {
   "cell_type": "markdown",
   "metadata": {},
   "source": [
    "### Validate that the correct column is being used for the dependent variable:"
   ]
  },
  {
   "cell_type": "code",
   "execution_count": 18,
   "metadata": {},
   "outputs": [
    {
     "name": "stdout",
     "output_type": "stream",
     "text": [
      "0        3\n",
      "1        3\n",
      "2        3\n",
      "3        3\n",
      "4        3\n",
      "5        3\n",
      "6        3\n",
      "7        3\n",
      "8        1\n",
      "9        3\n",
      "10       3\n",
      "11       3\n",
      "12       3\n",
      "13       3\n",
      "14       3\n",
      "15       3\n",
      "16       3\n",
      "17       3\n",
      "18       3\n",
      "19       3\n",
      "20       3\n",
      "21       3\n",
      "22       3\n",
      "23       3\n",
      "24       3\n",
      "25       3\n",
      "26       3\n",
      "27       3\n",
      "28       3\n",
      "29       3\n",
      "        ..\n",
      "40741    3\n",
      "40742    3\n",
      "40743    3\n",
      "40744    3\n",
      "40745    3\n",
      "40746    3\n",
      "40747    3\n",
      "40748    3\n",
      "40749    3\n",
      "40750    3\n",
      "40751    3\n",
      "40752    3\n",
      "40753    3\n",
      "40754    3\n",
      "40755    3\n",
      "40756    3\n",
      "40757    3\n",
      "40758    3\n",
      "40759    3\n",
      "40760    3\n",
      "40761    3\n",
      "40762    3\n",
      "40763    3\n",
      "40764    3\n",
      "40765    3\n",
      "40766    3\n",
      "40767    3\n",
      "40768    3\n",
      "40769    3\n",
      "40770    3\n",
      "Name: FinalStatus, Length: 40771, dtype: category\n",
      "Categories (3, int64): [0, 1, 3]\n"
     ]
    }
   ],
   "source": [
    "#dependent variable\n",
    "print(depVar)"
   ]
  },
  {
   "cell_type": "code",
   "execution_count": 19,
   "metadata": {},
   "outputs": [
    {
     "name": "stdout",
     "output_type": "stream",
     "text": [
      "                      Opportunity_ID  Status  OpptyAge    Amount  \\\n",
      "Opportunity_ID              1.000000     NaN -0.005517 -0.008563   \n",
      "Status                           NaN     NaN       NaN       NaN   \n",
      "OpptyAge                   -0.005517     NaN  1.000000  0.095745   \n",
      "Amount                     -0.008563     NaN  0.095745  1.000000   \n",
      "AmountNoChng               -0.003380     NaN  0.309986  0.177294   \n",
      "CloseDateNoChng            -0.004457     NaN  0.576819  0.027357   \n",
      "ForecastStatusNoChng       -0.000700     NaN  0.220756  0.038114   \n",
      "StageNameNoChng            -0.000114     NaN  0.344291  0.006162   \n",
      "eValuePrompterNoChng       -0.004676     NaN  0.190929  0.123993   \n",
      "NextStepsNoChng            -0.014843     NaN  0.372549  0.054766   \n",
      "\n",
      "                      AmountNoChng  CloseDateNoChng  ForecastStatusNoChng  \\\n",
      "Opportunity_ID           -0.003380        -0.004457             -0.000700   \n",
      "Status                         NaN              NaN                   NaN   \n",
      "OpptyAge                  0.309986         0.576819              0.220756   \n",
      "Amount                    0.177294         0.027357              0.038114   \n",
      "AmountNoChng              1.000000         0.444133              0.418958   \n",
      "CloseDateNoChng           0.444133         1.000000              0.530243   \n",
      "ForecastStatusNoChng      0.418958         0.530243              1.000000   \n",
      "StageNameNoChng           0.397629         0.619905              0.664974   \n",
      "eValuePrompterNoChng      0.373997         0.267832              0.254883   \n",
      "NextStepsNoChng           0.492335         0.682252              0.498215   \n",
      "\n",
      "                      StageNameNoChng  eValuePrompterNoChng  NextStepsNoChng  \n",
      "Opportunity_ID              -0.000114             -0.004676        -0.014843  \n",
      "Status                            NaN                   NaN              NaN  \n",
      "OpptyAge                     0.344291              0.190929         0.372549  \n",
      "Amount                       0.006162              0.123993         0.054766  \n",
      "AmountNoChng                 0.397629              0.373997         0.492335  \n",
      "CloseDateNoChng              0.619905              0.267832         0.682252  \n",
      "ForecastStatusNoChng         0.664974              0.254883         0.498215  \n",
      "StageNameNoChng              1.000000              0.209821         0.536918  \n",
      "eValuePrompterNoChng         0.209821              1.000000         0.327950  \n",
      "NextStepsNoChng              0.536918              0.327950         1.000000  \n"
     ]
    }
   ],
   "source": [
    "Correlation = rawData.corr()\n",
    "print(Correlation)"
   ]
  },
  {
   "cell_type": "code",
   "execution_count": 20,
   "metadata": {},
   "outputs": [
    {
     "name": "stdout",
     "output_type": "stream",
     "text": [
      "                      Opportunity_ID  Status      OpptyAge        Amount  \\\n",
      "Opportunity_ID          1.385263e+08     NaN -1.099904e+04 -1.093337e+08   \n",
      "Status                           NaN     NaN           NaN           NaN   \n",
      "OpptyAge               -1.099904e+04     NaN  2.869503e+04  1.742162e+07   \n",
      "Amount                 -1.093337e+08     NaN  1.742162e+07  1.173952e+12   \n",
      "AmountNoChng           -1.624433e+02     NaN  2.144307e+02  7.892729e+05   \n",
      "CloseDateNoChng        -1.393417e+02     NaN  2.595423e+02  7.922076e+04   \n",
      "ForecastStatusNoChng   -9.817120e+00     NaN  4.457878e+01  4.966662e+04   \n",
      "StageNameNoChng        -1.858499e+00     NaN  8.073831e+01  9.305864e+03   \n",
      "eValuePrompterNoChng   -1.528820e+01     NaN  8.983955e+00  3.770528e+04   \n",
      "NextStepsNoChng        -1.072500e+03     NaN  3.874116e+02  3.669666e+05   \n",
      "\n",
      "                       AmountNoChng  CloseDateNoChng  ForecastStatusNoChng  \\\n",
      "Opportunity_ID          -162.443341      -139.341722             -9.817120   \n",
      "Status                          NaN              NaN                   NaN   \n",
      "OpptyAge                 214.430693       259.542284             44.578777   \n",
      "Amount                789272.939388     79220.756335          49666.615463   \n",
      "AmountNoChng              16.676183         4.817901              2.039510   \n",
      "CloseDateNoChng            4.817901         7.056554              1.679108   \n",
      "ForecastStatusNoChng       2.039510         1.679108              1.421066   \n",
      "StageNameNoChng            2.247874         2.279641              1.097380   \n",
      "eValuePrompterNoChng       0.424233         0.197627              0.084399   \n",
      "NextStepsNoChng           12.342560        11.125950              3.646030   \n",
      "\n",
      "                      StageNameNoChng  eValuePrompterNoChng  NextStepsNoChng  \n",
      "Opportunity_ID              -1.858499            -15.288202     -1072.500294  \n",
      "Status                            NaN                   NaN              NaN  \n",
      "OpptyAge                    80.738313              8.983955       387.411589  \n",
      "Amount                    9305.863840          37705.280559    366966.617623  \n",
      "AmountNoChng                 2.247874              0.424233        12.342560  \n",
      "CloseDateNoChng              2.279641              0.197627        11.125950  \n",
      "ForecastStatusNoChng         1.097380              0.084399         3.646030  \n",
      "StageNameNoChng              1.916419              0.080683         4.562991  \n",
      "eValuePrompterNoChng         0.080683              0.077157         0.559231  \n",
      "NextStepsNoChng              4.562991              0.559231        37.687068  \n"
     ]
    }
   ],
   "source": [
    "Covariance = rawData.cov()\n",
    "print(Covariance)"
   ]
  },
  {
   "cell_type": "markdown",
   "metadata": {},
   "source": [
    "### Use the model variables you established in step 2  pass the training data to them in the following format"
   ]
  },
  {
   "cell_type": "markdown",
   "metadata": {},
   "source": [
    "### Neural Networks"
   ]
  },
  {
   "cell_type": "code",
   "execution_count": 21,
   "metadata": {},
   "outputs": [
    {
     "data": {
      "text/plain": [
       "MLPClassifier(activation='relu', alpha=1e-05, batch_size='auto', beta_1=0.9,\n",
       "       beta_2=0.999, early_stopping=False, epsilon=1e-08,\n",
       "       hidden_layer_sizes=(5, 2), learning_rate='constant',\n",
       "       learning_rate_init=0.001, max_iter=200, momentum=0.9,\n",
       "       nesterovs_momentum=True, power_t=0.5, random_state=1, shuffle=True,\n",
       "       solver='lbfgs', tol=0.0001, validation_fraction=0.1, verbose=False,\n",
       "       warm_start=False)"
      ]
     },
     "execution_count": 21,
     "metadata": {},
     "output_type": "execute_result"
    }
   ],
   "source": [
    "modelNN.fit(X_train,y_train)"
   ]
  },
  {
   "cell_type": "markdown",
   "metadata": {},
   "source": [
    "### Support Vector Classification"
   ]
  },
  {
   "cell_type": "code",
   "execution_count": 22,
   "metadata": {},
   "outputs": [
    {
     "data": {
      "text/plain": [
       "SVC(C=1.0, cache_size=200, class_weight=None, coef0=0.0,\n",
       "  decision_function_shape='ovr', degree=3, gamma='auto', kernel='rbf',\n",
       "  max_iter=-1, probability=False, random_state=None, shrinking=True,\n",
       "  tol=0.001, verbose=False)"
      ]
     },
     "execution_count": 22,
     "metadata": {},
     "output_type": "execute_result"
    }
   ],
   "source": [
    "modelSVC.fit(X_train,y_train)"
   ]
  },
  {
   "cell_type": "markdown",
   "metadata": {},
   "source": [
    "### Logistic Regression"
   ]
  },
  {
   "cell_type": "code",
   "execution_count": 23,
   "metadata": {
    "scrolled": false
   },
   "outputs": [
    {
     "data": {
      "text/plain": [
       "LogisticRegression(C=1.0, class_weight=None, dual=False, fit_intercept=True,\n",
       "          intercept_scaling=1, max_iter=5000, multi_class='ovr', n_jobs=1,\n",
       "          penalty='l2', random_state=0, solver='sag', tol=0.0001,\n",
       "          verbose=0, warm_start=False)"
      ]
     },
     "execution_count": 23,
     "metadata": {},
     "output_type": "execute_result"
    }
   ],
   "source": [
    "modelLR.fit(X_train,y_train)"
   ]
  },
  {
   "cell_type": "markdown",
   "metadata": {},
   "source": [
    "## Choosing the Right Model"
   ]
  },
  {
   "cell_type": "code",
   "execution_count": 24,
   "metadata": {},
   "outputs": [],
   "source": [
    "from sklearn.model_selection import cross_val_score"
   ]
  },
  {
   "cell_type": "code",
   "execution_count": 25,
   "metadata": {
    "scrolled": false
   },
   "outputs": [
    {
     "name": "stdout",
     "output_type": "stream",
     "text": [
      "[0.96568889 0.96568889 0.96568889]\n"
     ]
    }
   ],
   "source": [
    "print(cross_val_score(modelNN, X_train, y_train)) "
   ]
  },
  {
   "cell_type": "markdown",
   "metadata": {},
   "source": [
    "### 1. Neural Networks Classifier Model Fitting and Scoring"
   ]
  },
  {
   "cell_type": "code",
   "execution_count": 26,
   "metadata": {},
   "outputs": [
    {
     "name": "stdout",
     "output_type": "stream",
     "text": [
      "[0.96568889 0.96568889 0.96568889]\n"
     ]
    },
    {
     "data": {
      "text/plain": [
       "0.9656888888888889"
      ]
     },
     "execution_count": 26,
     "metadata": {},
     "output_type": "execute_result"
    }
   ],
   "source": [
    "#Model Fitting\n",
    "modelNN.fit(X_train,y_train)\n",
    "print(cross_val_score(modelNN, X_train, y_train))\n",
    "modelNN.score(X_train,y_train)"
   ]
  },
  {
   "cell_type": "markdown",
   "metadata": {},
   "source": [
    "### 2. C-Support Vector Classification Model Fitting and Scoring"
   ]
  },
  {
   "cell_type": "code",
   "execution_count": 27,
   "metadata": {},
   "outputs": [
    {
     "name": "stdout",
     "output_type": "stream",
     "text": [
      "[0.96533333 0.96568889 0.96515556]\n"
     ]
    },
    {
     "data": {
      "text/plain": [
       "0.9704296296296296"
      ]
     },
     "execution_count": 27,
     "metadata": {},
     "output_type": "execute_result"
    }
   ],
   "source": [
    "modelSVC.fit(X_train,y_train)\n",
    "print(cross_val_score(modelSVC, X_train, y_train)) \n",
    "modelSVC.score(X_train,y_train)"
   ]
  },
  {
   "cell_type": "markdown",
   "metadata": {},
   "source": [
    "### 3. Logistic Regression Model Fitting and Scoring"
   ]
  },
  {
   "cell_type": "code",
   "execution_count": 28,
   "metadata": {},
   "outputs": [
    {
     "name": "stdout",
     "output_type": "stream",
     "text": [
      "[0.96497778 0.96462222 0.96586667]\n"
     ]
    },
    {
     "data": {
      "text/plain": [
       "0.9654518518518519"
      ]
     },
     "execution_count": 28,
     "metadata": {},
     "output_type": "execute_result"
    }
   ],
   "source": [
    "modelLR.fit(X_train,y_train)\n",
    "print(cross_val_score(modelLR, X_train, y_train)) \n",
    "modelLR.score(X_train,y_train)"
   ]
  },
  {
   "cell_type": "markdown",
   "metadata": {},
   "source": [
    "## Evaluating the Results"
   ]
  },
  {
   "cell_type": "markdown",
   "metadata": {},
   "source": [
    "### Make Predictions"
   ]
  },
  {
   "cell_type": "code",
   "execution_count": 29,
   "metadata": {},
   "outputs": [
    {
     "data": {
      "text/plain": [
       "0.9658666666666667"
      ]
     },
     "execution_count": 29,
     "metadata": {},
     "output_type": "execute_result"
    }
   ],
   "source": [
    "#Neural Network Prediction\n",
    "predictionNN = modelNN.predict(X_test)\n",
    "\n",
    "y_predNN = predictionNN\n",
    "y_trueNN = y_test\n",
    "accuracy_score(y_trueNN, y_predNN)"
   ]
  },
  {
   "cell_type": "code",
   "execution_count": 30,
   "metadata": {},
   "outputs": [
    {
     "data": {
      "text/plain": [
       "array([[   0,    0,  109],\n",
       "       [   0,    0,   83],\n",
       "       [   0,    0, 5433]], dtype=int64)"
      ]
     },
     "execution_count": 30,
     "metadata": {},
     "output_type": "execute_result"
    }
   ],
   "source": [
    "confusion_matrix(y_trueNN, y_predNN)"
   ]
  },
  {
   "cell_type": "code",
   "execution_count": 31,
   "metadata": {
    "scrolled": true
   },
   "outputs": [
    {
     "data": {
      "text/plain": [
       "0.9658666666666667"
      ]
     },
     "execution_count": 31,
     "metadata": {},
     "output_type": "execute_result"
    }
   ],
   "source": [
    "#Support Vector Classification\n",
    "predictionSVC = modelSVC.predict(X_test)\n",
    "\n",
    "y_predSVC = predictionSVC\n",
    "y_trueSVC = y_test\n",
    "accuracy_score(y_trueSVC, y_predSVC)"
   ]
  },
  {
   "cell_type": "code",
   "execution_count": 32,
   "metadata": {},
   "outputs": [],
   "source": [
    "rawData['predictionSVC'] = pd.Series(y_predSVC)"
   ]
  },
  {
   "cell_type": "code",
   "execution_count": 33,
   "metadata": {},
   "outputs": [
    {
     "name": "stdout",
     "output_type": "stream",
     "text": [
      "       Opportunity_ID Fiscal_Period ForecastCategoryName  Status  \\\n",
      "0                   1       Q4-2019               Upside     NaN   \n",
      "1                   2       Q1-2020               Upside     NaN   \n",
      "2                   3       Q3-2019             Probable     NaN   \n",
      "3                   4       Q3-2019               Upside     NaN   \n",
      "4                   5       Q3-2019             Probable     NaN   \n",
      "5                   6       Q3-2019               Upside     NaN   \n",
      "6                   7       Q3-2019               Upside     NaN   \n",
      "7                   8       Q4-2019               Upside     NaN   \n",
      "8                   9       Q3-2019             Forecast     NaN   \n",
      "9                  10       Q3-2019               Upside     NaN   \n",
      "10                 11       Q3-2019               Upside     NaN   \n",
      "11                 12       Q3-2019               Upside     NaN   \n",
      "12                 13       Q3-2019               Upside     NaN   \n",
      "13                 14       Q4-2019               Upside     NaN   \n",
      "14                 15       Q3-2019             Probable     NaN   \n",
      "15                 16       Q3-2019               Upside     NaN   \n",
      "16                 17       Q4-2019               Upside     NaN   \n",
      "17                 18       Q2-2018               Upside     NaN   \n",
      "18                 19       Q4-2019               Upside     NaN   \n",
      "19                 20       Q4-2019               Upside     NaN   \n",
      "20                 21       Q3-2019             Probable     NaN   \n",
      "21                 22       Q3-2019             Probable     NaN   \n",
      "22                 23       Q4-2019               Upside     NaN   \n",
      "23                 24       Q3-2019             Probable     NaN   \n",
      "24                 25       Q4-2019               Upside     NaN   \n",
      "25                 26       Q3-2019               Upside     NaN   \n",
      "26                 27       Q3-2019               Upside     NaN   \n",
      "27                 28       Q4-2019               Upside     NaN   \n",
      "28                 29       Q1-2019               Upside     NaN   \n",
      "29                 30       Q1-2020               Upside     NaN   \n",
      "...               ...           ...                  ...     ...   \n",
      "40741           40742       Q1-2020               Upside     NaN   \n",
      "40742           40743       Q1-2020               Upside     NaN   \n",
      "40743           40744       Q1-2020               Upside     NaN   \n",
      "40744           40745       Q4-2019               Upside     NaN   \n",
      "40745           40746       Q4-2019               Upside     NaN   \n",
      "40746           40747       Q3-2019             Probable     NaN   \n",
      "40747           40748       Q3-2019               Upside     NaN   \n",
      "40748           40749       Q4-2019               Upside     NaN   \n",
      "40749           40750       Q4-2019               Upside     NaN   \n",
      "40750           40751       Q4-2019               Upside     NaN   \n",
      "40751           40752       Q4-2019               Upside     NaN   \n",
      "40752           40753       Q4-2019               Upside     NaN   \n",
      "40753           40754       Q3-2019             Forecast     NaN   \n",
      "40754           40755       Q4-2019               Upside     NaN   \n",
      "40755           40756       Q4-2019               Upside     NaN   \n",
      "40756           40757       Q4-2019               Upside     NaN   \n",
      "40757           40758       Q3-2019               Upside     NaN   \n",
      "40758           40759       Q3-2019               Upside     NaN   \n",
      "40759           40760       Q4-2019               Upside     NaN   \n",
      "40760           40761       Q4-2019               Upside     NaN   \n",
      "40761           40762       Q3-2019               Upside     NaN   \n",
      "40762           40763       Q4-2019               Upside     NaN   \n",
      "40763           40764       Q4-2019               Upside     NaN   \n",
      "40764           40765       Q3-2019               Upside     NaN   \n",
      "40765           40766       Q2-2020               Upside     NaN   \n",
      "40766           40767       Q4-2019               Upside     NaN   \n",
      "40767           40768       Q3-2019               Upside     NaN   \n",
      "40768           40769       Q3-2019               Upside     NaN   \n",
      "40769           40770       Q1-2020               Upside     NaN   \n",
      "40770           40771       Q4-2019               Upside     NaN   \n",
      "\n",
      "      War_Room_Status WR_Status_for_RTP Opportunity_Driver  OpptyAge  \\\n",
      "0                 NaN            Upside                 AE      37.0   \n",
      "1                 NaN            Upside                 AE     551.0   \n",
      "2            Forecast          Forecast         AE - SP EU     143.0   \n",
      "3                 NaN            Upside         AE - SP NS     295.0   \n",
      "4                 NaN          Probable                 IS      39.0   \n",
      "5                 NaN            Upside                 IS     268.0   \n",
      "6                 NaN            Upside                NaN      92.0   \n",
      "7                 NaN            Upside                 AE     134.0   \n",
      "8                 NaN          Forecast                NaN      88.0   \n",
      "9                 NaN            Upside                 IS      72.0   \n",
      "10                NaN            Upside                 AE      42.0   \n",
      "11                NaN            Upside                 IS      25.0   \n",
      "12                NaN            Upside                 IS     128.0   \n",
      "13                NaN            Upside                 IS      36.0   \n",
      "14                NaN          Probable         AE - SP EU      29.0   \n",
      "15                NaN            Upside                 IS      52.0   \n",
      "16                NaN            Upside            Partner     122.0   \n",
      "17                NaN            Upside                 IS     513.0   \n",
      "18                NaN            Upside                 IS     102.0   \n",
      "19                NaN            Upside            Partner      91.0   \n",
      "20                NaN          Probable         AE - SP EU     176.0   \n",
      "21                NaN          Probable      DET Field Rep     315.0   \n",
      "22                NaN            Upside             AE -SP     739.0   \n",
      "23                NaN          Probable                 IS      66.0   \n",
      "24                NaN            Upside                 IS      67.0   \n",
      "25                NaN            Upside                 IS     136.0   \n",
      "26                NaN            Upside                NaN      72.0   \n",
      "27                NaN            Upside                NaN     115.0   \n",
      "28                NaN            Upside                 IS     147.0   \n",
      "29                NaN            Upside                 AE     284.0   \n",
      "...               ...               ...                ...       ...   \n",
      "40741             NaN            Upside                NaN     100.0   \n",
      "40742             NaN            Upside                 IS     256.0   \n",
      "40743             NaN            Upside                 IS     270.0   \n",
      "40744             NaN            Upside                NaN     275.0   \n",
      "40745             NaN            Upside                NaN     317.0   \n",
      "40746             NaN          Probable                NaN     528.0   \n",
      "40747             NaN            Upside                 IS     191.0   \n",
      "40748             NaN            Upside                 IS      95.0   \n",
      "40749             NaN            Upside                 IS     204.0   \n",
      "40750             NaN            Upside                 IS     273.0   \n",
      "40751             NaN            Upside                NaN     331.0   \n",
      "40752             NaN            Upside            Partner     228.0   \n",
      "40753             NaN          Forecast                 IS     143.0   \n",
      "40754             NaN            Upside                 AE      46.0   \n",
      "40755             NaN            Upside                 IS     273.0   \n",
      "40756             NaN            Upside                 IS     340.0   \n",
      "40757             NaN            Upside                 IS     210.0   \n",
      "40758             NaN            Upside            Partner     205.0   \n",
      "40759             NaN            Upside                NaN     562.0   \n",
      "40760             NaN            Upside                 AE      67.0   \n",
      "40761             NaN            Upside                 IS     191.0   \n",
      "40762             NaN            Upside                NaN     116.0   \n",
      "40763             NaN            Upside                 IS     198.0   \n",
      "40764             NaN            Upside                 IS     129.0   \n",
      "40765             NaN            Upside                NaN     324.0   \n",
      "40766             NaN            Upside                 IS     129.0   \n",
      "40767             NaN            Upside                 IS     192.0   \n",
      "40768             NaN            Upside                NaN     129.0   \n",
      "40769             NaN            Upside                NaN     295.0   \n",
      "40770             NaN            Upside                 IS      78.0   \n",
      "\n",
      "                         StageName      Amount  AmountNoChng  CloseDateNoChng  \\\n",
      "0                   02 - Qualified        0.87             0                0   \n",
      "1                   02 - Qualified  4944382.00            32                6   \n",
      "2                       05 - Prove  8050622.00            12                6   \n",
      "3                      04 - Design        1.00             3                0   \n",
      "4                       05 - Prove    12645.22             3                1   \n",
      "5                    03 - Validate     7732.94             4                1   \n",
      "6                   02 - Qualified        1.00             3                0   \n",
      "7                   02 - Qualified   173403.47             2                2   \n",
      "8      07a - Agreement to Purchase     1014.96             5                0   \n",
      "9                   02 - Qualified        0.00             0                1   \n",
      "10                  02 - Qualified    52499.00             2                1   \n",
      "11                  02 - Qualified    11282.82             1                0   \n",
      "12                  02 - Qualified    11282.82             2                1   \n",
      "13                  02 - Qualified        0.94             2                0   \n",
      "14                      05 - Prove    24739.00             6                0   \n",
      "15                     04 - Design    35744.00             2                0   \n",
      "16                  02 - Qualified      111.70             1                2   \n",
      "17                  02 - Qualified    20001.00             0                0   \n",
      "18                   03 - Validate        0.87             4                0   \n",
      "19                   03 - Validate    33510.00             1                1   \n",
      "20                      05 - Prove   129015.67            19                2   \n",
      "21                      05 - Prove   156380.00             2                3   \n",
      "22                   03 - Validate   128085.70             6               14   \n",
      "23                      05 - Prove    13180.60             4                3   \n",
      "24                  02 - Qualified      609.84             3                1   \n",
      "25                   03 - Validate     3189.31             3                1   \n",
      "26                  02 - Qualified        0.00             0                0   \n",
      "27                   03 - Validate        1.00             3                0   \n",
      "28                  02 - Qualified        1.25             1                0   \n",
      "29                  02 - Qualified   208614.00             2                5   \n",
      "...                            ...         ...           ...              ...   \n",
      "40741               02 - Qualified        0.00             0                1   \n",
      "40742               02 - Qualified     8241.23             1                3   \n",
      "40743               02 - Qualified    12024.51             1                5   \n",
      "40744               02 - Qualified    22340.00             1                3   \n",
      "40745                03 - Validate        0.00             0                2   \n",
      "40746                   05 - Prove   123786.00             4               13   \n",
      "40747                  04 - Design     3909.50             1                2   \n",
      "40748               02 - Qualified     6143.50             1                0   \n",
      "40749               02 - Qualified     3489.51             1                0   \n",
      "40750               02 - Qualified     4691.40             2                0   \n",
      "40751                03 - Validate    16755.00             1                2   \n",
      "40752                  04 - Design    11157.30             2                1   \n",
      "40753               06 - Negotiate    45026.27             1                8   \n",
      "40754                03 - Validate   271272.00            16                0   \n",
      "40755               02 - Qualified     3574.40             1                0   \n",
      "40756                03 - Validate    22284.15             3                7   \n",
      "40757               02 - Qualified     3909.50             1                3   \n",
      "40758                  04 - Design    71148.00             7                3   \n",
      "40759                  04 - Design    85350.00             7                6   \n",
      "40760               02 - Qualified    55850.00             1                1   \n",
      "40761                03 - Validate     5579.41             1                4   \n",
      "40762               02 - Qualified     3351.00             1                1   \n",
      "40763               02 - Qualified     6690.82             1                3   \n",
      "40764               02 - Qualified     2786.91             1                1   \n",
      "40765               02 - Qualified    15546.41             1                4   \n",
      "40766                03 - Validate    13404.00             1                0   \n",
      "40767               02 - Qualified     5579.41             1                4   \n",
      "40768               02 - Qualified        0.00             0                1   \n",
      "40769                  04 - Design    80036.00             8                6   \n",
      "40770                03 - Validate     5585.00             1                1   \n",
      "\n",
      "       ForecastStatusNoChng  StageNameNoChng  eValuePrompterNoChng  \\\n",
      "0                         2                0                     1   \n",
      "1                         3                3                     1   \n",
      "2                         1                3                     1   \n",
      "3                         0                0                     0   \n",
      "4                         1                1                     0   \n",
      "5                         0                0                     0   \n",
      "6                         0                0                     0   \n",
      "7                         0                0                     0   \n",
      "8                         1                1                     0   \n",
      "9                         0                0                     0   \n",
      "10                        0                0                     0   \n",
      "11                        0                0                     0   \n",
      "12                        0                0                     0   \n",
      "13                        1                1                     0   \n",
      "14                        1                1                     0   \n",
      "15                        0                1                     0   \n",
      "16                        0                0                     0   \n",
      "17                        0                0                     0   \n",
      "18                        0                0                     0   \n",
      "19                        0                0                     0   \n",
      "20                        5                3                     1   \n",
      "21                        1                1                     0   \n",
      "22                        2                4                     0   \n",
      "23                        1                1                     0   \n",
      "24                        0                0                     0   \n",
      "25                        0                0                     0   \n",
      "26                        0                0                     0   \n",
      "27                        0                0                     0   \n",
      "28                        0                0                     0   \n",
      "29                        2                0                     1   \n",
      "...                     ...              ...                   ...   \n",
      "40741                     0                0                     0   \n",
      "40742                     0                0                     0   \n",
      "40743                     0                0                     0   \n",
      "40744                     1                1                     0   \n",
      "40745                     0                1                     0   \n",
      "40746                     3                4                     0   \n",
      "40747                     0                4                     0   \n",
      "40748                     0                0                     0   \n",
      "40749                     0                0                     0   \n",
      "40750                     0                0                     0   \n",
      "40751                     0                1                     0   \n",
      "40752                     0                1                     0   \n",
      "40753                     4                5                     0   \n",
      "40754                     0                0                     1   \n",
      "40755                     0                0                     0   \n",
      "40756                     0                5                     0   \n",
      "40757                     0                2                     0   \n",
      "40758                     2                2                     0   \n",
      "40759                     2                1                     0   \n",
      "40760                     0                0                     0   \n",
      "40761                     0                5                     0   \n",
      "40762                     0                0                     0   \n",
      "40763                     0                2                     0   \n",
      "40764                     0                2                     0   \n",
      "40765                     0                0                     0   \n",
      "40766                     0                1                     0   \n",
      "40767                     0                4                     0   \n",
      "40768                     0                0                     0   \n",
      "40769                     4                5                     0   \n",
      "40770                     0                1                     0   \n",
      "\n",
      "       NextStepsNoChng FinalStatus  predictionSVC  \n",
      "0                    1           3            3.0  \n",
      "1                   13           3            3.0  \n",
      "2                   45           3            3.0  \n",
      "3                    1           3            3.0  \n",
      "4                    2           3            3.0  \n",
      "5                    2           3            3.0  \n",
      "6                    0           3            3.0  \n",
      "7                    2           3            3.0  \n",
      "8                    1           1            3.0  \n",
      "9                    0           3            3.0  \n",
      "10                   2           3            3.0  \n",
      "11                   1           3            3.0  \n",
      "12                   3           3            3.0  \n",
      "13                   0           3            3.0  \n",
      "14                   3           3            3.0  \n",
      "15                   3           3            3.0  \n",
      "16                   2           3            3.0  \n",
      "17                   0           3            3.0  \n",
      "18                   1           3            3.0  \n",
      "19                   0           3            3.0  \n",
      "20                  15           3            3.0  \n",
      "21                   2           3            3.0  \n",
      "22                  25           3            3.0  \n",
      "23                   6           3            3.0  \n",
      "24                   0           3            3.0  \n",
      "25                   1           3            3.0  \n",
      "26                   0           3            3.0  \n",
      "27                   1           3            3.0  \n",
      "28                   1           3            3.0  \n",
      "29                   1           3            3.0  \n",
      "...                ...         ...            ...  \n",
      "40741                0           3            NaN  \n",
      "40742                2           3            NaN  \n",
      "40743                2           3            NaN  \n",
      "40744                0           3            NaN  \n",
      "40745                0           3            NaN  \n",
      "40746               21           3            NaN  \n",
      "40747                3           3            NaN  \n",
      "40748                1           3            NaN  \n",
      "40749                1           3            NaN  \n",
      "40750                2           3            NaN  \n",
      "40751                0           3            NaN  \n",
      "40752                1           3            NaN  \n",
      "40753               18           3            NaN  \n",
      "40754                1           3            NaN  \n",
      "40755                1           3            NaN  \n",
      "40756                9           3            NaN  \n",
      "40757                4           3            NaN  \n",
      "40758                3           3            NaN  \n",
      "40759                7           3            NaN  \n",
      "40760                1           3            NaN  \n",
      "40761                4           3            NaN  \n",
      "40762                0           3            NaN  \n",
      "40763                1           3            NaN  \n",
      "40764                4           3            NaN  \n",
      "40765                0           3            NaN  \n",
      "40766                2           3            NaN  \n",
      "40767                4           3            NaN  \n",
      "40768                0           3            NaN  \n",
      "40769               11           3            NaN  \n",
      "40770                1           3            NaN  \n",
      "\n",
      "[40771 rows x 18 columns]\n"
     ]
    }
   ],
   "source": [
    "print(rawData)"
   ]
  },
  {
   "cell_type": "code",
   "execution_count": 34,
   "metadata": {},
   "outputs": [],
   "source": [
    "rawData.to_excel('predictedSVC.xlsx')"
   ]
  },
  {
   "cell_type": "code",
   "execution_count": 35,
   "metadata": {},
   "outputs": [],
   "source": [
    "##X_test['predictionSVC'] = predictionSVC"
   ]
  },
  {
   "cell_type": "code",
   "execution_count": 36,
   "metadata": {},
   "outputs": [],
   "source": [
    "conf_matrixSVC = confusion_matrix(y_trueSVC, y_predSVC)"
   ]
  },
  {
   "cell_type": "code",
   "execution_count": 37,
   "metadata": {
    "scrolled": false
   },
   "outputs": [
    {
     "name": "stdout",
     "output_type": "stream",
     "text": [
      "[[   0    0  109]\n",
      " [   0    0   83]\n",
      " [   0    0 5433]]\n"
     ]
    }
   ],
   "source": [
    "print(conf_matrixSVC)"
   ]
  },
  {
   "cell_type": "code",
   "execution_count": 38,
   "metadata": {},
   "outputs": [
    {
     "name": "stdout",
     "output_type": "stream",
     "text": [
      "[3 3 3 ... 3 3 3]\n"
     ]
    }
   ],
   "source": [
    "print(y_predSVC)"
   ]
  },
  {
   "cell_type": "code",
   "execution_count": 39,
   "metadata": {},
   "outputs": [
    {
     "data": {
      "text/plain": [
       "0.9648"
      ]
     },
     "execution_count": 39,
     "metadata": {},
     "output_type": "execute_result"
    }
   ],
   "source": [
    "#Logistic Regression\n",
    "predictionLR = modelLR.predict(X_test)\n",
    "\n",
    "y_predLR = predictionLR\n",
    "y_trueLR = y_test\n",
    "accuracy_score(y_trueLR, y_predLR)"
   ]
  },
  {
   "cell_type": "code",
   "execution_count": 40,
   "metadata": {},
   "outputs": [
    {
     "data": {
      "text/plain": [
       "array([[   5,    0,  104],\n",
       "       [   1,    0,   82],\n",
       "       [  11,    0, 5422]], dtype=int64)"
      ]
     },
     "execution_count": 40,
     "metadata": {},
     "output_type": "execute_result"
    }
   ],
   "source": [
    "confusion_matrix(y_trueLR, y_predLR)"
   ]
  },
  {
   "cell_type": "markdown",
   "metadata": {},
   "source": [
    "###  Plotting the Results"
   ]
  },
  {
   "cell_type": "markdown",
   "metadata": {},
   "source": [
    "### Neural Network Plot"
   ]
  },
  {
   "cell_type": "code",
   "execution_count": 41,
   "metadata": {
    "scrolled": true
   },
   "outputs": [
    {
     "data": {
      "image/png": "[encoded data removed]",
      "text/plain": [
       "<Figure size 432x288 with 1 Axes>"
      ]
     },
     "metadata": {},
     "output_type": "display_data"
    }
   ],
   "source": [
    "plt.scatter(y_test, predictionNN, color=['blue','green'], alpha = 0.5)\n",
    "plt.xlabel('Ground Truth')\n",
    "plt.ylabel('Predictions')\n",
    "plt.show();"
   ]
  },
  {
   "cell_type": "markdown",
   "metadata": {},
   "source": [
    "### Support Vector Classification Plot"
   ]
  },
  {
   "cell_type": "code",
   "execution_count": 42,
   "metadata": {},
   "outputs": [
    {
     "data": {
      "image/png": "[encoded data removed]",
      "text/plain": [
       "<Figure size 432x288 with 1 Axes>"
      ]
     },
     "metadata": {},
     "output_type": "display_data"
    }
   ],
   "source": [
    "plt.scatter(y_test, predictionSVC, color=['blue','green'], alpha = 0.5)\n",
    "plt.xlabel('Ground Truth')\n",
    "plt.ylabel('Predictions')\n",
    "plt.show();"
   ]
  },
  {
   "cell_type": "markdown",
   "metadata": {},
   "source": [
    "### Logistic Regression Plot"
   ]
  },
  {
   "cell_type": "code",
   "execution_count": 43,
   "metadata": {},
   "outputs": [
    {
     "data": {
      "image/png": "[encoded data removed]",
      "text/plain": [
       "<Figure size 432x288 with 1 Axes>"
      ]
     },
     "metadata": {},
     "output_type": "display_data"
    }
   ],
   "source": [
    "plt.scatter(y_test, predictionLR, color=['blue','green'], alpha = 0.5)\n",
    "plt.xlabel('Ground Truth')\n",
    "plt.ylabel('Predictions')\n",
    "plt.show();"
   ]
  }
 ],
 "metadata": {
  "kernelspec": {
   "display_name": "Python 3",
   "language": "python",
   "name": "python3"
  },
  "language_info": {
   "codemirror_mode": {
    "name": "ipython",
    "version": 3
   },
   "file_extension": ".py",
   "mimetype": "text/x-python",
   "name": "python",
   "nbconvert_exporter": "python",
   "pygments_lexer": "ipython3",
   "version": "3.6.5"
  }
 },
 "nbformat": 4,
 "nbformat_minor": 2
}
